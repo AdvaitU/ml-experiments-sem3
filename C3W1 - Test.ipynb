{
 "cells": [
  {
   "cell_type": "code",
   "execution_count": 1,
   "id": "2c8592b0",
   "metadata": {},
   "outputs": [
    {
     "name": "stdout",
     "output_type": "stream",
     "text": [
      "Collecting tensorflow_datasets\n",
      "  Downloading tensorflow_datasets-4.9.2-py3-none-any.whl (5.4 MB)\n",
      "     ---------------------------------------- 5.4/5.4 MB 2.0 MB/s eta 0:00:00\n",
      "Requirement already satisfied: absl-py in d:\\software\\python\\envs\\coding3\\lib\\site-packages (from tensorflow_datasets) (1.4.0)\n",
      "Requirement already satisfied: wrapt in d:\\software\\python\\envs\\coding3\\lib\\site-packages (from tensorflow_datasets) (1.14.1)\n",
      "Collecting tensorflow-metadata\n",
      "  Downloading tensorflow_metadata-1.13.1-py3-none-any.whl (28 kB)\n",
      "Collecting array-record\n",
      "  Downloading array_record-0.2.0-py39-none-any.whl (3.0 MB)\n",
      "     ---------------------------------------- 3.0/3.0 MB 1.7 MB/s eta 0:00:00\n",
      "Requirement already satisfied: numpy in d:\\software\\python\\envs\\coding3\\lib\\site-packages (from tensorflow_datasets) (1.23.5)\n",
      "Requirement already satisfied: protobuf>=3.20 in d:\\software\\python\\envs\\coding3\\lib\\site-packages (from tensorflow_datasets) (4.22.3)\n",
      "Requirement already satisfied: psutil in d:\\software\\python\\envs\\coding3\\lib\\site-packages (from tensorflow_datasets) (5.9.0)\n",
      "Requirement already satisfied: termcolor in d:\\software\\python\\envs\\coding3\\lib\\site-packages (from tensorflow_datasets) (2.2.0)\n",
      "Collecting click\n",
      "  Downloading click-8.1.3-py3-none-any.whl (96 kB)\n",
      "     ---------------------------------------- 96.6/96.6 kB 1.8 MB/s eta 0:00:00\n",
      "Requirement already satisfied: requests>=2.19.0 in d:\\software\\python\\envs\\coding3\\lib\\site-packages (from tensorflow_datasets) (2.28.2)\n",
      "Collecting dm-tree\n",
      "  Downloading dm_tree-0.1.8-cp39-cp39-win_amd64.whl (101 kB)\n",
      "     -------------------------------------- 101.5/101.5 kB 2.9 MB/s eta 0:00:00\n",
      "Collecting etils[enp,epath]>=0.9.0\n",
      "  Downloading etils-1.2.0-py3-none-any.whl (120 kB)\n",
      "     -------------------------------------- 120.6/120.6 kB 2.4 MB/s eta 0:00:00\n",
      "Collecting promise\n",
      "  Downloading promise-2.3.tar.gz (19 kB)\n",
      "  Preparing metadata (setup.py): started\n",
      "  Preparing metadata (setup.py): finished with status 'done'\n",
      "Collecting toml\n",
      "  Downloading toml-0.10.2-py2.py3-none-any.whl (16 kB)\n",
      "Collecting tqdm\n",
      "  Downloading tqdm-4.65.0-py3-none-any.whl (77 kB)\n",
      "     ---------------------------------------- 77.1/77.1 kB 4.2 MB/s eta 0:00:00\n",
      "Requirement already satisfied: typing_extensions in d:\\software\\python\\envs\\coding3\\lib\\site-packages (from etils[enp,epath]>=0.9.0->tensorflow_datasets) (4.5.0)\n",
      "Requirement already satisfied: zipp in d:\\software\\python\\envs\\coding3\\lib\\site-packages (from etils[enp,epath]>=0.9.0->tensorflow_datasets) (3.15.0)\n",
      "Requirement already satisfied: importlib_resources in d:\\software\\python\\envs\\coding3\\lib\\site-packages (from etils[enp,epath]>=0.9.0->tensorflow_datasets) (5.12.0)\n",
      "Requirement already satisfied: certifi>=2017.4.17 in d:\\software\\python\\envs\\coding3\\lib\\site-packages (from requests>=2.19.0->tensorflow_datasets) (2022.12.7)\n",
      "Requirement already satisfied: urllib3<1.27,>=1.21.1 in d:\\software\\python\\envs\\coding3\\lib\\site-packages (from requests>=2.19.0->tensorflow_datasets) (1.26.15)\n",
      "Requirement already satisfied: charset-normalizer<4,>=2 in d:\\software\\python\\envs\\coding3\\lib\\site-packages (from requests>=2.19.0->tensorflow_datasets) (3.1.0)\n",
      "Requirement already satisfied: idna<4,>=2.5 in d:\\software\\python\\envs\\coding3\\lib\\site-packages (from requests>=2.19.0->tensorflow_datasets) (3.4)\n",
      "Requirement already satisfied: colorama in d:\\software\\python\\envs\\coding3\\lib\\site-packages (from click->tensorflow_datasets) (0.4.6)\n",
      "Requirement already satisfied: six in d:\\software\\python\\envs\\coding3\\lib\\site-packages (from promise->tensorflow_datasets) (1.16.0)\n",
      "Collecting googleapis-common-protos<2,>=1.52.0\n",
      "  Downloading googleapis_common_protos-1.59.0-py2.py3-none-any.whl (223 kB)\n",
      "     -------------------------------------- 223.6/223.6 kB 2.0 MB/s eta 0:00:00\n",
      "Building wheels for collected packages: promise\n",
      "  Building wheel for promise (setup.py): started\n",
      "  Building wheel for promise (setup.py): finished with status 'done'\n",
      "  Created wheel for promise: filename=promise-2.3-py3-none-any.whl size=21548 sha256=a50c0cde1fd81370e4f5f2db0984d1d632081808fb06095d39abb5f411c471fa\n",
      "  Stored in directory: c:\\users\\ukidv\\appdata\\local\\pip\\cache\\wheels\\e1\\e8\\83\\ddea66100678d139b14bc87692ece57c6a2a937956d2532608\n",
      "Successfully built promise\n",
      "Installing collected packages: dm-tree, tqdm, toml, promise, googleapis-common-protos, etils, click, tensorflow-metadata, array-record, tensorflow_datasets\n",
      "Successfully installed array-record-0.2.0 click-8.1.3 dm-tree-0.1.8 etils-1.2.0 googleapis-common-protos-1.59.0 promise-2.3 tensorflow-metadata-1.13.1 tensorflow_datasets-4.9.2 toml-0.10.2 tqdm-4.65.0\n",
      "TensorFlow version: 2.12.0\n",
      "Num GPUs Available:  0\n",
      "Downloading and preparing dataset Unknown size (download: Unknown size, generated: Unknown size, total: Unknown size) to C:\\Users\\ukidv\\tensorflow_datasets\\mnist\\3.0.1...\n"
     ]
    },
    {
     "data": {
      "application/vnd.jupyter.widget-view+json": {
       "model_id": "1b1bce9d74b945df88dcb67a472227b5",
       "version_major": 2,
       "version_minor": 0
      },
      "text/plain": [
       "Dl Completed...: 0 url [00:00, ? url/s]"
      ]
     },
     "metadata": {},
     "output_type": "display_data"
    },
    {
     "data": {
      "application/vnd.jupyter.widget-view+json": {
       "model_id": "57c89d9e68e246868d1e53c0f3eb6c2e",
       "version_major": 2,
       "version_minor": 0
      },
      "text/plain": [
       "Dl Size...: 0 MiB [00:00, ? MiB/s]"
      ]
     },
     "metadata": {},
     "output_type": "display_data"
    },
    {
     "data": {
      "application/vnd.jupyter.widget-view+json": {
       "model_id": "9a7635815bf544afa55bc0fd88dcf609",
       "version_major": 2,
       "version_minor": 0
      },
      "text/plain": [
       "Extraction completed...: 0 file [00:00, ? file/s]"
      ]
     },
     "metadata": {},
     "output_type": "display_data"
    },
    {
     "data": {
      "application/vnd.jupyter.widget-view+json": {
       "model_id": "",
       "version_major": 2,
       "version_minor": 0
      },
      "text/plain": [
       "Generating splits...:   0%|          | 0/2 [00:00<?, ? splits/s]"
      ]
     },
     "metadata": {},
     "output_type": "display_data"
    },
    {
     "data": {
      "application/vnd.jupyter.widget-view+json": {
       "model_id": "",
       "version_major": 2,
       "version_minor": 0
      },
      "text/plain": [
       "Generating train examples...: 0 examples [00:00, ? examples/s]"
      ]
     },
     "metadata": {},
     "output_type": "display_data"
    },
    {
     "data": {
      "application/vnd.jupyter.widget-view+json": {
       "model_id": "",
       "version_major": 2,
       "version_minor": 0
      },
      "text/plain": [
       "Shuffling C:\\Users\\ukidv\\tensorflow_datasets\\mnist\\3.0.1.incomplete3WCOHC\\mnist-train.tfrecord*...:   0%|     …"
      ]
     },
     "metadata": {},
     "output_type": "display_data"
    },
    {
     "data": {
      "application/vnd.jupyter.widget-view+json": {
       "model_id": "",
       "version_major": 2,
       "version_minor": 0
      },
      "text/plain": [
       "Generating test examples...: 0 examples [00:00, ? examples/s]"
      ]
     },
     "metadata": {},
     "output_type": "display_data"
    },
    {
     "data": {
      "application/vnd.jupyter.widget-view+json": {
       "model_id": "",
       "version_major": 2,
       "version_minor": 0
      },
      "text/plain": [
       "Shuffling C:\\Users\\ukidv\\tensorflow_datasets\\mnist\\3.0.1.incomplete3WCOHC\\mnist-test.tfrecord*...:   0%|      …"
      ]
     },
     "metadata": {},
     "output_type": "display_data"
    },
    {
     "name": "stdout",
     "output_type": "stream",
     "text": [
      "Dataset mnist downloaded and prepared to C:\\Users\\ukidv\\tensorflow_datasets\\mnist\\3.0.1. Subsequent calls will reuse this data.\n",
      "WARNING:tensorflow:AutoGraph could not transform <function normalize_img at 0x000001E0507741F0> and will run it as-is.\n",
      "Cause: Unable to locate the source code of <function normalize_img at 0x000001E0507741F0>. Note that functions defined in certain environments, like the interactive Python shell, do not expose their source code. If that is the case, you should define them in a .py source file. If you are certain the code is graph-compatible, wrap the call using @tf.autograph.experimental.do_not_convert. Original error: could not get source code\n",
      "To silence this warning, decorate the function with @tf.autograph.experimental.do_not_convert\n"
     ]
    },
    {
     "name": "stderr",
     "output_type": "stream",
     "text": [
      "WARNING:tensorflow:AutoGraph could not transform <function normalize_img at 0x000001E0507741F0> and will run it as-is.\n",
      "Cause: Unable to locate the source code of <function normalize_img at 0x000001E0507741F0>. Note that functions defined in certain environments, like the interactive Python shell, do not expose their source code. If that is the case, you should define them in a .py source file. If you are certain the code is graph-compatible, wrap the call using @tf.autograph.experimental.do_not_convert. Original error: could not get source code\n",
      "To silence this warning, decorate the function with @tf.autograph.experimental.do_not_convert\n"
     ]
    },
    {
     "name": "stdout",
     "output_type": "stream",
     "text": [
      "WARNING: AutoGraph could not transform <function normalize_img at 0x000001E0507741F0> and will run it as-is.\n",
      "Cause: Unable to locate the source code of <function normalize_img at 0x000001E0507741F0>. Note that functions defined in certain environments, like the interactive Python shell, do not expose their source code. If that is the case, you should define them in a .py source file. If you are certain the code is graph-compatible, wrap the call using @tf.autograph.experimental.do_not_convert. Original error: could not get source code\n",
      "To silence this warning, decorate the function with @tf.autograph.experimental.do_not_convert\n",
      "Epoch 1/12\n",
      "469/469 [==============================] - 40s 77ms/step - loss: 0.1641 - accuracy: 0.9516 - val_loss: 0.0533 - val_accuracy: 0.9822\n",
      "Epoch 2/12\n",
      "469/469 [==============================] - 36s 77ms/step - loss: 0.0440 - accuracy: 0.9867 - val_loss: 0.0387 - val_accuracy: 0.9872\n",
      "Epoch 3/12\n",
      "469/469 [==============================] - 36s 77ms/step - loss: 0.0274 - accuracy: 0.9916 - val_loss: 0.0350 - val_accuracy: 0.9891\n",
      "Epoch 4/12\n",
      "469/469 [==============================] - 36s 77ms/step - loss: 0.0193 - accuracy: 0.9935 - val_loss: 0.0398 - val_accuracy: 0.9872\n",
      "Epoch 5/12\n",
      "469/469 [==============================] - 35s 75ms/step - loss: 0.0129 - accuracy: 0.9959 - val_loss: 0.0337 - val_accuracy: 0.9896\n",
      "Epoch 6/12\n",
      "469/469 [==============================] - 35s 75ms/step - loss: 0.0095 - accuracy: 0.9972 - val_loss: 0.0401 - val_accuracy: 0.9873\n",
      "Epoch 7/12\n",
      "469/469 [==============================] - 36s 76ms/step - loss: 0.0078 - accuracy: 0.9972 - val_loss: 0.0403 - val_accuracy: 0.9897\n",
      "Epoch 8/12\n",
      "469/469 [==============================] - 36s 77ms/step - loss: 0.0073 - accuracy: 0.9975 - val_loss: 0.0426 - val_accuracy: 0.9888\n",
      "Epoch 9/12\n",
      "469/469 [==============================] - 36s 77ms/step - loss: 0.0062 - accuracy: 0.9980 - val_loss: 0.0350 - val_accuracy: 0.9902\n",
      "Epoch 10/12\n",
      "469/469 [==============================] - 36s 76ms/step - loss: 0.0032 - accuracy: 0.9990 - val_loss: 0.0441 - val_accuracy: 0.9898\n",
      "Epoch 11/12\n",
      "469/469 [==============================] - 35s 76ms/step - loss: 0.0041 - accuracy: 0.9986 - val_loss: 0.0503 - val_accuracy: 0.9893\n",
      "Epoch 12/12\n",
      "469/469 [==============================] - 36s 76ms/step - loss: 0.0059 - accuracy: 0.9981 - val_loss: 0.0524 - val_accuracy: 0.9874\n",
      "CPU times: total: 17min\n",
      "Wall time: 7min 58s\n"
     ]
    },
    {
     "data": {
      "text/plain": [
       "<keras.callbacks.History at 0x1e057068ee0>"
      ]
     },
     "execution_count": 1,
     "metadata": {},
     "output_type": "execute_result"
    }
   ],
   "source": [
    "%%time\n",
    "!pip install tensorflow_datasets\n",
    "import tensorflow as tf\n",
    "import tensorflow_datasets as tfds\n",
    "print(\"TensorFlow version:\", tf.__version__)\n",
    "print(\"Num GPUs Available: \", len(tf.config.experimental.list_physical_devices('GPU')))\n",
    "tf.config.list_physical_devices('GPU')\n",
    "(ds_train, ds_test), ds_info = tfds.load(\n",
    "    'mnist',\n",
    "    split=['train', 'test'],\n",
    "    shuffle_files=True,\n",
    "    as_supervised=True,\n",
    "    with_info=True,\n",
    ")\n",
    "def normalize_img(image, label):\n",
    "  \"\"\"Normalizes images: `uint8` -> `float32`.\"\"\"\n",
    "  return tf.cast(image, tf.float32) / 255., label\n",
    "batch_size = 128\n",
    "ds_train = ds_train.map(\n",
    "    normalize_img, num_parallel_calls=tf.data.experimental.AUTOTUNE)\n",
    "ds_train = ds_train.cache()\n",
    "ds_train = ds_train.shuffle(ds_info.splits['train'].num_examples)\n",
    "ds_train = ds_train.batch(batch_size)\n",
    "ds_train = ds_train.prefetch(tf.data.experimental.AUTOTUNE)\n",
    "ds_test = ds_test.map(\n",
    "    normalize_img, num_parallel_calls=tf.data.experimental.AUTOTUNE)\n",
    "ds_test = ds_test.batch(batch_size)\n",
    "ds_test = ds_test.cache()\n",
    "ds_test = ds_test.prefetch(tf.data.experimental.AUTOTUNE)\n",
    "model = tf.keras.models.Sequential([\n",
    "  tf.keras.layers.Conv2D(32, kernel_size=(3, 3),\n",
    "                 activation='relu'),\n",
    "  tf.keras.layers.Conv2D(64, kernel_size=(3, 3),\n",
    "                 activation='relu'),\n",
    "  tf.keras.layers.MaxPooling2D(pool_size=(2, 2)),\n",
    "#   tf.keras.layers.Dropout(0.25),\n",
    "  tf.keras.layers.Flatten(),\n",
    "  tf.keras.layers.Dense(128, activation='relu'),\n",
    "#   tf.keras.layers.Dropout(0.5),\n",
    "  tf.keras.layers.Dense(10, activation='softmax')\n",
    "])\n",
    "model.compile(\n",
    "    loss='sparse_categorical_crossentropy',\n",
    "    optimizer=tf.keras.optimizers.legacy.Adam(0.001),\n",
    "    metrics=['accuracy'],\n",
    ")\n",
    "model.fit(\n",
    "    ds_train,\n",
    "    epochs=12,\n",
    "    validation_data=ds_test,\n",
    ")"
   ]
  },
  {
   "cell_type": "code",
   "execution_count": null,
   "id": "949fc5e1",
   "metadata": {},
   "outputs": [],
   "source": []
  }
 ],
 "metadata": {
  "kernelspec": {
   "display_name": "coding3",
   "language": "python",
   "name": "coding3"
  },
  "language_info": {
   "codemirror_mode": {
    "name": "ipython",
    "version": 3
   },
   "file_extension": ".py",
   "mimetype": "text/x-python",
   "name": "python",
   "nbconvert_exporter": "python",
   "pygments_lexer": "ipython3",
   "version": "3.9.16"
  }
 },
 "nbformat": 4,
 "nbformat_minor": 5
}
